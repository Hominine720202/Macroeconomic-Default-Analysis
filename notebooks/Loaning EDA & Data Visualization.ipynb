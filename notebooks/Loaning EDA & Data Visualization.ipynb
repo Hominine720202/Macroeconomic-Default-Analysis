{
 "cells": [
  {
   "cell_type": "markdown",
   "metadata": {},
   "source": [
    "# EDA & Data Visualization\n",
    "Because there are so many features in our loaning dataset, it's important to explore associations between them and identify the most significant factors contributing to default. In this notebook, univariate, bivariate, and multivariate analysis will be performed to understand the data better to build the model. "
   ]
  },
  {
   "cell_type": "markdown",
   "metadata": {},
   "source": [
    "### Imports"
   ]
  },
  {
   "cell_type": "code",
   "execution_count": 2,
   "metadata": {},
   "outputs": [
    {
     "name": "stdout",
     "output_type": "stream",
     "text": [
      "['Processed.csv']\n"
     ]
    }
   ],
   "source": [
    "import pandas as pd\n",
    "import numpy as np\n",
    "\n",
    "from matplotlib import pyplot as plt\n",
    "import seaborn as sns\n",
    "import plotly.plotly as py\n",
    "import plotly.graph_objs as go\n",
    "%matplotlib inline\n",
    "sns.set_style(\"whitegrid\")\n",
    "\n",
    "import warnings\n",
    "warnings.filterwarnings(\"ignore\")\n",
    "\n",
    "%load_ext autoreload\n",
    "%autoreload 2\n",
    "\n",
    "import sys\n",
    "sys.path.insert(0, \"../src/visualization\") # access custom files\n",
    "\n",
    "# import custom files\n",
    "import plots\n",
    "\n",
    "import os \n",
    "print(os.listdir(\"../data/LendingClub/processed\"))"
   ]
  },
  {
   "cell_type": "markdown",
   "metadata": {},
   "source": [
    "### Loading and Inspecting Data\n",
    "We have already cleaned parts of the raw data from LendingClub in the previous notebook, *Preprocessing.ipynb*, and we will use this version to create plots and look for interesting details about certain features. Some attributes like the loan *id*, and other unique features aren't very useful to inspect so they will be dropped from analysis."
   ]
  },
  {
   "cell_type": "code",
   "execution_count": 3,
   "metadata": {},
   "outputs": [
    {
     "name": "stdout",
     "output_type": "stream",
     "text": [
      "Rows: 143021  Columns: 150\n"
     ]
    },
    {
     "data": {
      "text/html": [
       "<div>\n",
       "<style scoped>\n",
       "    .dataframe tbody tr th:only-of-type {\n",
       "        vertical-align: middle;\n",
       "    }\n",
       "\n",
       "    .dataframe tbody tr th {\n",
       "        vertical-align: top;\n",
       "    }\n",
       "\n",
       "    .dataframe thead th {\n",
       "        text-align: right;\n",
       "    }\n",
       "</style>\n",
       "<table border=\"1\" class=\"dataframe\">\n",
       "  <thead>\n",
       "    <tr style=\"text-align: right;\">\n",
       "      <th></th>\n",
       "      <th>id</th>\n",
       "      <th>member_id</th>\n",
       "      <th>loan_amnt</th>\n",
       "      <th>funded_amnt</th>\n",
       "      <th>funded_amnt_inv</th>\n",
       "      <th>term</th>\n",
       "      <th>int_rate</th>\n",
       "      <th>installment</th>\n",
       "      <th>grade</th>\n",
       "      <th>sub_grade</th>\n",
       "      <th>...</th>\n",
       "      <th>orig_projected_additional_accrued_interest</th>\n",
       "      <th>hardship_payoff_balance_amount</th>\n",
       "      <th>hardship_last_payment_amount</th>\n",
       "      <th>debt_settlement_flag</th>\n",
       "      <th>debt_settlement_flag_date</th>\n",
       "      <th>settlement_status</th>\n",
       "      <th>settlement_date</th>\n",
       "      <th>settlement_amount</th>\n",
       "      <th>settlement_percentage</th>\n",
       "      <th>settlement_term</th>\n",
       "    </tr>\n",
       "  </thead>\n",
       "  <tbody>\n",
       "    <tr>\n",
       "      <th>0</th>\n",
       "      <td>159170615</td>\n",
       "      <td>NaN</td>\n",
       "      <td>16000.0</td>\n",
       "      <td>16000.0</td>\n",
       "      <td>16000.0</td>\n",
       "      <td>36 months</td>\n",
       "      <td>17.74%</td>\n",
       "      <td>576.36</td>\n",
       "      <td>C</td>\n",
       "      <td>C5</td>\n",
       "      <td>...</td>\n",
       "      <td>NaN</td>\n",
       "      <td>NaN</td>\n",
       "      <td>NaN</td>\n",
       "      <td>N</td>\n",
       "      <td>NaN</td>\n",
       "      <td>NaN</td>\n",
       "      <td>NaN</td>\n",
       "      <td>NaN</td>\n",
       "      <td>NaN</td>\n",
       "      <td>NaN</td>\n",
       "    </tr>\n",
       "    <tr>\n",
       "      <th>1</th>\n",
       "      <td>159210254</td>\n",
       "      <td>NaN</td>\n",
       "      <td>10000.0</td>\n",
       "      <td>10000.0</td>\n",
       "      <td>10000.0</td>\n",
       "      <td>60 months</td>\n",
       "      <td>15.24%</td>\n",
       "      <td>239.17</td>\n",
       "      <td>C</td>\n",
       "      <td>C2</td>\n",
       "      <td>...</td>\n",
       "      <td>NaN</td>\n",
       "      <td>NaN</td>\n",
       "      <td>NaN</td>\n",
       "      <td>N</td>\n",
       "      <td>NaN</td>\n",
       "      <td>NaN</td>\n",
       "      <td>NaN</td>\n",
       "      <td>NaN</td>\n",
       "      <td>NaN</td>\n",
       "      <td>NaN</td>\n",
       "    </tr>\n",
       "    <tr>\n",
       "      <th>2</th>\n",
       "      <td>159226028</td>\n",
       "      <td>NaN</td>\n",
       "      <td>15000.0</td>\n",
       "      <td>15000.0</td>\n",
       "      <td>15000.0</td>\n",
       "      <td>60 months</td>\n",
       "      <td>14.30%</td>\n",
       "      <td>351.37</td>\n",
       "      <td>C</td>\n",
       "      <td>C1</td>\n",
       "      <td>...</td>\n",
       "      <td>NaN</td>\n",
       "      <td>NaN</td>\n",
       "      <td>NaN</td>\n",
       "      <td>N</td>\n",
       "      <td>NaN</td>\n",
       "      <td>NaN</td>\n",
       "      <td>NaN</td>\n",
       "      <td>NaN</td>\n",
       "      <td>NaN</td>\n",
       "      <td>NaN</td>\n",
       "    </tr>\n",
       "    <tr>\n",
       "      <th>3</th>\n",
       "      <td>159328733</td>\n",
       "      <td>NaN</td>\n",
       "      <td>24000.0</td>\n",
       "      <td>24000.0</td>\n",
       "      <td>24000.0</td>\n",
       "      <td>36 months</td>\n",
       "      <td>10.33%</td>\n",
       "      <td>778.14</td>\n",
       "      <td>B</td>\n",
       "      <td>B1</td>\n",
       "      <td>...</td>\n",
       "      <td>NaN</td>\n",
       "      <td>NaN</td>\n",
       "      <td>NaN</td>\n",
       "      <td>N</td>\n",
       "      <td>NaN</td>\n",
       "      <td>NaN</td>\n",
       "      <td>NaN</td>\n",
       "      <td>NaN</td>\n",
       "      <td>NaN</td>\n",
       "      <td>NaN</td>\n",
       "    </tr>\n",
       "    <tr>\n",
       "      <th>4</th>\n",
       "      <td>159374118</td>\n",
       "      <td>NaN</td>\n",
       "      <td>15000.0</td>\n",
       "      <td>15000.0</td>\n",
       "      <td>15000.0</td>\n",
       "      <td>36 months</td>\n",
       "      <td>11.02%</td>\n",
       "      <td>491.23</td>\n",
       "      <td>B</td>\n",
       "      <td>B2</td>\n",
       "      <td>...</td>\n",
       "      <td>NaN</td>\n",
       "      <td>NaN</td>\n",
       "      <td>NaN</td>\n",
       "      <td>N</td>\n",
       "      <td>NaN</td>\n",
       "      <td>NaN</td>\n",
       "      <td>NaN</td>\n",
       "      <td>NaN</td>\n",
       "      <td>NaN</td>\n",
       "      <td>NaN</td>\n",
       "    </tr>\n",
       "  </tbody>\n",
       "</table>\n",
       "<p>5 rows × 150 columns</p>\n",
       "</div>"
      ],
      "text/plain": [
       "          id  member_id  loan_amnt  funded_amnt  funded_amnt_inv        term  \\\n",
       "0  159170615        NaN    16000.0      16000.0          16000.0   36 months   \n",
       "1  159210254        NaN    10000.0      10000.0          10000.0   60 months   \n",
       "2  159226028        NaN    15000.0      15000.0          15000.0   60 months   \n",
       "3  159328733        NaN    24000.0      24000.0          24000.0   36 months   \n",
       "4  159374118        NaN    15000.0      15000.0          15000.0   36 months   \n",
       "\n",
       "  int_rate  installment grade sub_grade  ...  \\\n",
       "0   17.74%       576.36     C        C5  ...   \n",
       "1   15.24%       239.17     C        C2  ...   \n",
       "2   14.30%       351.37     C        C1  ...   \n",
       "3   10.33%       778.14     B        B1  ...   \n",
       "4   11.02%       491.23     B        B2  ...   \n",
       "\n",
       "  orig_projected_additional_accrued_interest hardship_payoff_balance_amount  \\\n",
       "0                                        NaN                            NaN   \n",
       "1                                        NaN                            NaN   \n",
       "2                                        NaN                            NaN   \n",
       "3                                        NaN                            NaN   \n",
       "4                                        NaN                            NaN   \n",
       "\n",
       "  hardship_last_payment_amount  debt_settlement_flag  \\\n",
       "0                          NaN                     N   \n",
       "1                          NaN                     N   \n",
       "2                          NaN                     N   \n",
       "3                          NaN                     N   \n",
       "4                          NaN                     N   \n",
       "\n",
       "  debt_settlement_flag_date settlement_status settlement_date  \\\n",
       "0                       NaN               NaN             NaN   \n",
       "1                       NaN               NaN             NaN   \n",
       "2                       NaN               NaN             NaN   \n",
       "3                       NaN               NaN             NaN   \n",
       "4                       NaN               NaN             NaN   \n",
       "\n",
       "  settlement_amount settlement_percentage  settlement_term  \n",
       "0               NaN                   NaN              NaN  \n",
       "1               NaN                   NaN              NaN  \n",
       "2               NaN                   NaN              NaN  \n",
       "3               NaN                   NaN              NaN  \n",
       "4               NaN                   NaN              NaN  \n",
       "\n",
       "[5 rows x 150 columns]"
      ]
     },
     "execution_count": 3,
     "metadata": {},
     "output_type": "execute_result"
    }
   ],
   "source": [
    "processed_path = \"../data/LendingClub/processed/Processed.csv\"\n",
    "data = pd.read_csv(processed_path)\n",
    "print(\"Rows: \" + str(data.shape[0]) + \"  Columns: \" + str(data.shape[1]))\n",
    "data.head()"
   ]
  },
  {
   "cell_type": "code",
   "execution_count": 3,
   "metadata": {},
   "outputs": [
    {
     "data": {
      "text/plain": [
       "Index(['Unnamed: 0', 'id', 'loan_amnt', 'funded_amnt', 'funded_amnt_inv',\n",
       "       'term', 'int_rate', 'installment', 'grade', 'sub_grade',\n",
       "       ...\n",
       "       'pct_tl_nvr_dlq', 'percent_bc_gt_75', 'pub_rec_bankruptcies',\n",
       "       'tax_liens', 'tot_hi_cred_lim', 'total_bal_ex_mort', 'total_bc_limit',\n",
       "       'total_il_high_credit_limit', 'hardship_flag', 'debt_settlement_flag'],\n",
       "      dtype='object', length=108)"
      ]
     },
     "execution_count": 3,
     "metadata": {},
     "output_type": "execute_result"
    }
   ],
   "source": [
    "data.columns"
   ]
  },
  {
   "cell_type": "markdown",
   "metadata": {},
   "source": [
    "### Loan Status\n",
    "We should first explore the label we are trying to predict, which is the loan status detailing whether the loan is current, has been paid, is late, or has been charged off (default). Previously, we had encoded these categories into numerical values. The dictionary of encoding is referenced below, and we can see our data contains loans that fall into all of these categories."
   ]
  },
  {
   "cell_type": "code",
   "execution_count": 29,
   "metadata": {},
   "outputs": [
    {
     "name": "stdout",
     "output_type": "stream",
     "text": [
      "{0, 1, 2, 3, 4, 5}\n",
      "1    134839\n",
      "2      5929\n",
      "5      1042\n",
      "3       689\n",
      "4       364\n",
      "0       156\n",
      "Name: loan_status, dtype: int64\n"
     ]
    }
   ],
   "source": [
    "status_dict = {0: \"Charged Off\", 1: \"Current\", 2: \"Fully Paid\", 3: \"In Grace Period\", 4: \"Late (16-30 days)\",\n",
    "               5: \"Late (31-120 days)\"}\n",
    "\n",
    "print(set(data[\"loan_status\"]))\n",
    "print(data[\"loan_status\"].value_counts())"
   ]
  },
  {
   "cell_type": "markdown",
   "metadata": {},
   "source": [
    "We can make a barplot of counts for all the loan status outcomes. It appears we have loans falling into each of these categories. Now, we will dive deeper to understand what attributes of a loan contribute to this outcome."
   ]
  },
  {
   "cell_type": "code",
   "execution_count": 34,
   "metadata": {},
   "outputs": [
    {
     "data": {
      "text/plain": [
       "(0, 148322.90000000002)"
      ]
     },
     "execution_count": 34,
     "metadata": {},
     "output_type": "execute_result"
    },
    {
     "data": {
      "image/png": "[encoded data removed]",
      "text/plain": [
       "<Figure size 1008x432 with 1 Axes>"
      ]
     },
     "metadata": {
      "needs_background": "light"
     },
     "output_type": "display_data"
    }
   ],
   "source": [
    "plt.figure(figsize=(14, 6))\n",
    "\n",
    "g = sns.countplot(x=\"loan_status\", data=data)\n",
    "g.set_xticklabels(status_dict.values(), rotation=45)\n",
    "g.set_xlabel(\"Loan Status Categories\", fontsize=13)\n",
    "g.set_ylabel(\"Count\", fontsize=13)\n",
    "g.set_title(\"Loan Status Types Distribution\", fontsize=15)\n",
    "\n",
    "proportions = []\n",
    "for status in g.patches:\n",
    "    height = status.get_height()\n",
    "    proportions.append(height)\n",
    "    g.text(status.get_x()+status.get_width()/2.,\n",
    "            height + 3,\n",
    "            \"{:1.2f}%\".format(height/len(data)*100),\n",
    "            ha=\"center\", fontsize=12) \n",
    "\n",
    "g.set_ylim(0, max(proportions)*1.1)"
   ]
  },
  {
   "cell_type": "markdown",
   "metadata": {},
   "source": [
    "### Loan Amount\n",
    "The loan amount requested is a good place to start, as understanding the distribution of loan amounts can give us a good idea of the range where most of the loans fall in. Large outliers may be much harder to pay back, which is probably a useful indicator of perdicting the loan status."
   ]
  },
  {
   "cell_type": "markdown",
   "metadata": {},
   "source": [
    "#### *Distribution*\n",
    "To visualize the ranges of the loans, a histogram is helpful. It appears that most of the requested loans fall somewhere within the range of 0-40000 dollars, with various modes to consider; $10,000 still appears to be the most common loan amount. It can also be observed that most of these loans were funded by the lender by observing the distirbution of *funded_amnt*, which is the total amounts funded to the loan."
   ]
  },
  {
   "cell_type": "code",
   "execution_count": 30,
   "metadata": {},
   "outputs": [
    {
     "data": {
      "image/png": "[encoded data removed]",
      "text/plain": [
       "<Figure size 1152x864 with 2 Axes>"
      ]
     },
     "metadata": {
      "needs_background": "light"
     },
     "output_type": "display_data"
    }
   ],
   "source": [
    "plt.figure()\n",
    "fig = plt.gcf() #creates the plot figure object\n",
    "fig.set_size_inches(16, 12) #sets the plot size\n",
    "plt.subplot(2, 2, 1) #first subplot, 2 rows and 2 columns\n",
    "plots.histogram(\"loan_amnt\", data, kde=True)\n",
    "plt.subplot(2, 2, 2) #second subplot, 2 rows and 2 columns\n",
    "plots.histogram(\"funded_amnt\", data, kde=True)\n",
    "plt.subplots_adjust(left=0) #shift to make plots legible"
   ]
  },
  {
   "cell_type": "markdown",
   "metadata": {},
   "source": [
    "#### *Grade*\n",
    "It's also beneficial to understand the loan amounts in context with other features like the loan *grade*, which can provide insight to the total amounts requested by each grade, so we can detect outliers grade-wise."
   ]
  },
  {
   "cell_type": "code",
   "execution_count": 38,
   "metadata": {},
   "outputs": [
    {
     "data": {
      "image/png": "[encoded data removed]",
      "text/plain": [
       "<Figure size 720x360 with 1 Axes>"
      ]
     },
     "metadata": {
      "needs_background": "light"
     },
     "output_type": "display_data"
    },
    {
     "data": {
      "text/plain": [
       "<matplotlib.axes._subplots.AxesSubplot at 0x1294b87f0>"
      ]
     },
     "execution_count": 38,
     "metadata": {},
     "output_type": "execute_result"
    }
   ],
   "source": [
    "plt.figure()\n",
    "fig = plt.gcf() #creates the plot figure object\n",
    "fig.set_size_inches(10, 5) #sets the plot size\n",
    "plots.barplot(data, \"grade\", \"loan_amnt\")"
   ]
  },
  {
   "cell_type": "markdown",
   "metadata": {},
   "source": [
    "We can also observe the loan status for each of the grades as well by making *loan_status* a hue for our bar plot. This will display the amounts of loans that are ongoing, were fully paid, were fully charged off, etc."
   ]
  },
  {
   "cell_type": "code",
   "execution_count": 40,
   "metadata": {},
   "outputs": [
    {
     "data": {
      "image/png": "[encoded data removed]",
      "text/plain": [
       "<Figure size 1440x720 with 1 Axes>"
      ]
     },
     "metadata": {
      "needs_background": "light"
     },
     "output_type": "display_data"
    },
    {
     "data": {
      "text/plain": [
       "<matplotlib.axes._subplots.AxesSubplot at 0x12da4f7b8>"
      ]
     },
     "execution_count": 40,
     "metadata": {},
     "output_type": "execute_result"
    }
   ],
   "source": [
    "plt.figure()\n",
    "fig = plt.gcf() #creates the plot figure object\n",
    "fig.set_size_inches(20, 10) #sets the plot size\n",
    "plots.barplot(data, \"grade\", \"loan_amnt\", hue=\"loan_status\")"
   ]
  },
  {
   "cell_type": "code",
   "execution_count": 25,
   "metadata": {},
   "outputs": [
    {
     "data": {
      "image/png": "[encoded data removed]",
      "text/plain": [
       "<Figure size 2160x720 with 1 Axes>"
      ]
     },
     "metadata": {
      "needs_background": "light"
     },
     "output_type": "display_data"
    },
    {
     "data": {
      "text/plain": [
       "Text(0.5, 1, 'Loan Amount by Subgrade')"
      ]
     },
     "execution_count": 25,
     "metadata": {},
     "output_type": "execute_result"
    }
   ],
   "source": [
    "# Each grade also consists of a subgrade, so we can dive deeper into different loan categories\n",
    "plt.figure()\n",
    "fig = plt.gcf() \n",
    "fig.set_size_inches(30, 10)\n",
    "g = plots.barplot(data, \"grade\", \"loan_amnt\", hue=\"sub_grade\")\n",
    "g.set_xlabel(\"Grade\", fontsize=13)\n",
    "g.set_ylabel(\"loan_amnt\", fontsize=13)\n",
    "g.set_title(\"Loan Amount by Subgrade\", fontsize=15)"
   ]
  },
  {
   "cell_type": "code",
   "execution_count": null,
   "metadata": {},
   "outputs": [],
   "source": []
  },
  {
   "cell_type": "markdown",
   "metadata": {},
   "source": [
    "### Loan Purpose & Employment\n",
    "It may be beneficial to understand the purposes for the loans in the data, since the use of the borrowed money may contribute to whether it is paid back or not. Some may borrow money for a new car, to pay off their house, or for other casual purposes. Others may need financing for debt consolidation, which is to pay off all their other current liabilities, or to finance a business. These activities seem to carry more risk and may have an impact on default."
   ]
  },
  {
   "cell_type": "markdown",
   "metadata": {},
   "source": [
    "#### *Loan Purpose*\n",
    "We can observe the number of loans made for each type of purpose and understand what the majority of borrowers are looking to do. Some loan purposes may have higher risks and lead to more defaults, while other purposes may be easier to pay off."
   ]
  },
  {
   "cell_type": "code",
   "execution_count": 48,
   "metadata": {},
   "outputs": [
    {
     "data": {
      "text/plain": [
       "(0, 85105.90000000001)"
      ]
     },
     "execution_count": 48,
     "metadata": {},
     "output_type": "execute_result"
    },
    {
     "data": {
      "image/png": "[encoded data removed]",
      "text/plain": [
       "<Figure size 1008x432 with 1 Axes>"
      ]
     },
     "metadata": {
      "needs_background": "light"
     },
     "output_type": "display_data"
    }
   ],
   "source": [
    "plt.figure(figsize=(14, 6))\n",
    "\n",
    "g = sns.countplot(x='purpose', data=data)\n",
    "g.set_xticklabels(g.get_xticklabels(), rotation=45)\n",
    "g.set_xlabel(\"Purpose Titles\", fontsize=13)\n",
    "g.set_ylabel('Count', fontsize=13)\n",
    "g.set_title(\"Client Purposes for Loan Credit\", fontsize=15)\n",
    "\n",
    "sizes=[]\n",
    "\n",
    "for p in g.patches:\n",
    "    height = p.get_height()\n",
    "    sizes.append(height)\n",
    "    g.text(p.get_x()+p.get_width()/2.,\n",
    "            height + 3,\n",
    "            '{:1.2f}%'.format(height/len(data)*100),\n",
    "            ha=\"center\", fontsize=12) \n",
    "    \n",
    "g.set_ylim(0, max(sizes) * 1.1)"
   ]
  },
  {
   "cell_type": "markdown",
   "metadata": {},
   "source": [
    "#### *Employment Title*\n",
    "*IP*: Text processing/regular expressions"
   ]
  },
  {
   "cell_type": "code",
   "execution_count": 67,
   "metadata": {},
   "outputs": [
    {
     "data": {
      "text/plain": [
       "{nan,\n",
       " 'players club supervisor',\n",
       " 'Veterinary Technitian',\n",
       " 'Treatment Coordinator',\n",
       " 'accounts payable',\n",
       " 'Social Work',\n",
       " 'AVP of Lending',\n",
       " 'sr. bldg. custodian',\n",
       " 'Eligibilty',\n",
       " 'Maintenance custodian',\n",
       " 'Director of Curriculum',\n",
       " 'Administrative Assisitant',\n",
       " 'Service Tech ',\n",
       " 'Claim Adjuster ',\n",
       " 'Front desk ',\n",
       " 'Props coordinator ',\n",
       " 'Cold storage ',\n",
       " 'Real Estate Appraiser',\n",
       " 'Project Manager/Estimator',\n",
       " 'Nurse Assistant ',\n",
       " 'SVP/ Regional Manager',\n",
       " 'Supply Coordinator',\n",
       " 'Resource Scheduler and Coordinator',\n",
       " 'SCSR',\n",
       " 'Producer ',\n",
       " 'Zoology Technician ',\n",
       " 'Sr. Staff Product Designer',\n",
       " 'Therapeutic Couple',\n",
       " 'Systems and Network Analyst',\n",
       " 'wine sale man',\n",
       " 'Maintenance worker',\n",
       " 'Histotechnologist ',\n",
       " 'Lab and X-ray Tec/Trainer',\n",
       " 'Specialist Sr Communications ',\n",
       " 'Director, State and Local Affairs',\n",
       " 'Cafeteria Manager',\n",
       " 'Secority Officer',\n",
       " 'Assistant Project Manager',\n",
       " 'Patient Services Manager ',\n",
       " 'Vice President of Operations ',\n",
       " 'Legislative Assistant II',\n",
       " 'ENGINEER CHIEF',\n",
       " 'Driver Associate',\n",
       " 'Supervising RN',\n",
       " 'Director of Reporting and Surveys',\n",
       " 'fixed operations manager',\n",
       " 'Office Assistant 1',\n",
       " 'Office Support',\n",
       " 'Sr Manager - Product',\n",
       " 'Fire sprinkler designer ',\n",
       " 'Director, Regulatory Reporting Services',\n",
       " 'Electronics test engineer',\n",
       " 'Medical Receptionist ',\n",
       " 'programmer',\n",
       " 'President-Director',\n",
       " 'underwriting',\n",
       " 'VP Data Governance',\n",
       " 'ATHLETIC DIRECTOR ',\n",
       " 'Medical Social Worker ',\n",
       " 'Used car manager ',\n",
       " 'Creative Directir',\n",
       " 'mtg underwriter',\n",
       " 'Senior Special Agent',\n",
       " 'Rehab Director',\n",
       " 'Director, Site Management ',\n",
       " 'Program/Management Analyst',\n",
       " 'Feeder Driver ',\n",
       " 'Location Manager ',\n",
       " 'Access Center Service Representative',\n",
       " 'FC Associate',\n",
       " 'Billing/Confirming Clerk',\n",
       " 'dental hyginist',\n",
       " 'Production/analyst',\n",
       " 'Wireless Sales Expert ',\n",
       " 'ReturnsClerk ',\n",
       " 'Houskeeping Supervsior',\n",
       " 'Direct Service Personnel',\n",
       " 'customer support special missions',\n",
       " 'Annealer',\n",
       " 'VP - Business Relations',\n",
       " 'feeder driver',\n",
       " 'Pharmaceutical Sales Rep',\n",
       " 'Senior Compliance Associate',\n",
       " 'Data Integrity Manager 2',\n",
       " 'Acct. Payables dept',\n",
       " 'Support Professional',\n",
       " 'Title IX Coordinator',\n",
       " 'Orthodontic Technician',\n",
       " 'Carpenter/ Technician ',\n",
       " 'clinic coordinator',\n",
       " 'Chief of Service Operations ',\n",
       " 'Stamping ',\n",
       " 'Court services assistant II',\n",
       " 'Pres. UAV Dept',\n",
       " 'HR',\n",
       " 'Customer Service Associate ',\n",
       " 'Quality Assurance/Systems Manager',\n",
       " 'Nutritional services',\n",
       " 'Facility Management',\n",
       " 'Const Site Safety Consultant',\n",
       " 'Sr Scrum Master',\n",
       " 'Para Educator 2 ',\n",
       " 'Home Savers Analyst',\n",
       " 'Occupational therapist',\n",
       " 'general manager',\n",
       " 'Fire sprinkler technician ',\n",
       " 'SAP Functional Lead',\n",
       " 'Forklift operator ',\n",
       " 'Imports Specialist',\n",
       " 'visual communication specialist',\n",
       " 'Security coordinator ',\n",
       " \"Contractor / Kopp's Carpet\",\n",
       " 'Senior Design Checking Engineer',\n",
       " 'Information Systems Tech',\n",
       " 'Manager, IT',\n",
       " 'FarmUp Manager',\n",
       " 'Gov Contractor',\n",
       " 'electric steel technician ',\n",
       " 'Lead Transportation Security Officer',\n",
       " 'Revenue/Margin Assurance Analyst',\n",
       " 'Contracts Specialist',\n",
       " 'Paintet',\n",
       " 'kitchen worker',\n",
       " 'West Valley Manager ',\n",
       " 'Sales Development Representative',\n",
       " 'Financial Crimes Specialist',\n",
       " 'Quality control manager ',\n",
       " 'MAIL CLERK III',\n",
       " 'On site service rep.',\n",
       " 'Department Manager of E-Commerce',\n",
       " 'Personal Care Assistant',\n",
       " 'Mental Health Professional',\n",
       " 'chief Technician',\n",
       " 'Child care provider ',\n",
       " 'Indirect manager ',\n",
       " 'Sterilization technician',\n",
       " 'Food Service Worker',\n",
       " 'Roto-Rooter Assistant Manager',\n",
       " 'Account Clerk II',\n",
       " 'ultrasound technologist',\n",
       " 'ASE',\n",
       " 'Warehouse Tech',\n",
       " 'Laboratory technologist ',\n",
       " 'warehouse associate',\n",
       " 'Lead machine technician ',\n",
       " 'Chief Technical Implementation Officer',\n",
       " 'Loan Assistant',\n",
       " 'Room Attendant',\n",
       " 'Brokerage Supervisor',\n",
       " 'Enlisted NCO',\n",
       " 'SR BUYER/PLANNER',\n",
       " 'Corporate Recruiter ',\n",
       " 'Ability Specialist',\n",
       " 'Dir. or Strategic Initiatives',\n",
       " 'Ultrasound tech',\n",
       " 'Manufacturing- office ',\n",
       " 'Credentialed Trainer',\n",
       " 'Marketing specialist ',\n",
       " 'Account Executive, Assistant Vice Presid',\n",
       " 'Professional Local Truck Driver',\n",
       " 'Technical Manager',\n",
       " 'IT technology Architect',\n",
       " 'Sales Operations Administrator',\n",
       " 'Accounts Payable Assistant Manager',\n",
       " 'AQUATICS COORDINATOR',\n",
       " 'Handyperson',\n",
       " 'Shuttle car',\n",
       " 'Mtg CL Opes Specialist',\n",
       " 'MEP Coordinator ',\n",
       " 'Private Duty Nurse',\n",
       " 'Nursing Scheduler/C.N.A.',\n",
       " 'Board certified behavior analyst ',\n",
       " 'Area Director',\n",
       " 'Bus driver ',\n",
       " 'Collection Support Manager ',\n",
       " 'LEAD QUALITY INSPECTOR',\n",
       " 'Senior II Kitchen Manager',\n",
       " 'Meat Dpt supervisor ',\n",
       " 'Executive Assistant to President',\n",
       " 'Planner /Manager',\n",
       " 'DIRECT CARE STAFF',\n",
       " 'Instrumintation',\n",
       " 'Associate Scientiest 2',\n",
       " 'SURGICAL TECHNICIAN ',\n",
       " 'Studio Lead',\n",
       " 'Director of Nursing, RN',\n",
       " 'Senior Mutual Fund Rep',\n",
       " 'Teacher Non Cert',\n",
       " 'Sr Administrative Assistant',\n",
       " 'Stacker operator',\n",
       " 'Teledata technician ',\n",
       " 'Industrial Boilermaker',\n",
       " 'Licensed Agent',\n",
       " 'Senior Environmental Services Technician',\n",
       " 'IT Service Operations',\n",
       " 'Manager/Sales',\n",
       " 'Sr. Manager, International Jurisdiction',\n",
       " 'Draftsman',\n",
       " 'Web Solutions Developer',\n",
       " 'IT Systems Analyst ',\n",
       " 'Spec Asst to Director & Ops Mgr',\n",
       " 'Licensed Realtor',\n",
       " 'Drywall',\n",
       " 'SAP Consultant',\n",
       " 'professional ',\n",
       " 'SR Drilling Fluid Specialist',\n",
       " 'Human Resources Representative',\n",
       " 'Assistant winder operator ',\n",
       " 'direct care staff',\n",
       " 'Vice President-Engineering',\n",
       " 'IT Digital Consultant ',\n",
       " 'administrative assistance 3',\n",
       " 'Manager of Patient Services',\n",
       " 'Clinical Floor Lead',\n",
       " 'Educator Professor',\n",
       " 'Records Management Specialist 1',\n",
       " 'Data administrator ',\n",
       " 'Certified Nurse Anesthestist CRNA ',\n",
       " 'Inspector ( Housing)',\n",
       " 'Account Advocate ',\n",
       " 'Patient Financial Services Rep',\n",
       " 'Waxer',\n",
       " 'cometologi',\n",
       " 'Lead Risk and Safety Advisor',\n",
       " 'LOGISTCS',\n",
       " 'Talent Partner, Human Resources',\n",
       " 'Second supervisor ',\n",
       " 'Full Tenured Professor',\n",
       " 'Glass Scientist',\n",
       " 'Fraud Operations Manager',\n",
       " 'Enterprise Storage Engineer',\n",
       " 'Senior Assistant City Attorney',\n",
       " 'Echo sonographer',\n",
       " 'Senior planner',\n",
       " 'Senior Clinical Trial Assistant',\n",
       " 'Director of Housekeeping',\n",
       " 'Staff Seargent',\n",
       " 'Manager, Product Safety and Compliance',\n",
       " 'Manager PR',\n",
       " \"sheriff's officer\",\n",
       " 'Maintenance Supervisor  ',\n",
       " 'Sales/Leasing consultant ',\n",
       " 'Stylist ',\n",
       " 'Ecomm Manager',\n",
       " 'Cake decorator',\n",
       " 'Finance Office',\n",
       " 'delivery driver PMD',\n",
       " 'Respiratory Therapist/Account Manager',\n",
       " 'Assistant Director of Wellness',\n",
       " 'Billing manager',\n",
       " 'Service cordinator',\n",
       " 'Preload/Air Driver',\n",
       " 'Data entry ',\n",
       " 'Associate Judge',\n",
       " 'Home hospice ',\n",
       " 'Sr. Director, IT Finance',\n",
       " 'Regional Operations Leader',\n",
       " 'parts member ',\n",
       " 'correctional cook',\n",
       " 'Assistant Underwriter',\n",
       " 'Floor manager ',\n",
       " 'Executive HR',\n",
       " 'Supervising Senior Auditor',\n",
       " 'electrical assembler',\n",
       " 'Clerk 1 ',\n",
       " '3RD HAND',\n",
       " 'Field Service Representative ',\n",
       " 'Corporate IT Asset Manager',\n",
       " 'Associate account manager',\n",
       " 'Cashier, closer',\n",
       " 'VP of Clinical Services ',\n",
       " 'Driver trainer ',\n",
       " 'Office manager/driver',\n",
       " 'Accoubts Payable Assistant',\n",
       " 'Sewer maintenance ',\n",
       " 'Preparador',\n",
       " 'Senior Manager Projects',\n",
       " 'Manager HRIS and Payroll',\n",
       " 'Paralegal / Senior CSS',\n",
       " 'Urban Forester',\n",
       " 'Performance manager',\n",
       " 'Digital Engineer',\n",
       " 'director, facilities',\n",
       " 'Customs Brokerage Manager ',\n",
       " 'Design consultant/sales person',\n",
       " 'Cybersecurity Operations Manager',\n",
       " 'Power plant operator',\n",
       " 'Data Protection Specialist',\n",
       " 'Educational Supervisor',\n",
       " 'GIS Analyst',\n",
       " 'Sr warehouse tech',\n",
       " 'Restaurant manager',\n",
       " 'Health Insurance Underwriter',\n",
       " 'Manager, Alert Content',\n",
       " 'Director of Government Relations',\n",
       " 'A/P & Payroll Specialist',\n",
       " 'Storeroom CLERK',\n",
       " 'Regulatory Specialist ',\n",
       " 'Asst Gm/Ops Mgr',\n",
       " 'Housekeeper Caregiver',\n",
       " 'mission support specialist',\n",
       " 'MEMBER / MANAGER',\n",
       " 'Army Officer',\n",
       " 'Employed Family Practice Physician ',\n",
       " ' service advocate',\n",
       " 'CHIROPRACTOR /OWNER',\n",
       " 'Tax accountant',\n",
       " 'Mail courier',\n",
       " 'Submarine Chief',\n",
       " 'RN-nurse manager',\n",
       " 'Accounts Payable Leader',\n",
       " 'Assistive technology specialist ',\n",
       " 'Private Banking Administrator',\n",
       " 'Inside Sales Coordinator',\n",
       " \"Head of Pizza maker's \",\n",
       " 'Military Instructor',\n",
       " 'Senior Director of HR/Tal Mgt',\n",
       " 'Transfer Clerk ',\n",
       " 'Security Operations Center Administrator',\n",
       " 'IT Operations Center Associate ',\n",
       " 'Ground Man',\n",
       " 'Administration NCO ',\n",
       " 'Line laborer',\n",
       " 'Human Service Speialist 3',\n",
       " 'Certified medical asst./ GI dept.',\n",
       " 'Director of Online Logistics',\n",
       " 'optician',\n",
       " 'Senior Tech Lead',\n",
       " 'MARKETER',\n",
       " 'Banquet waiter',\n",
       " 'Resident support specialist ',\n",
       " 'Route sales associate ',\n",
       " 'Automotive Technician ',\n",
       " 'SERGEANT',\n",
       " 'AIR FORCE Hydraulic Technician',\n",
       " 'Sale Manager',\n",
       " 'care giver',\n",
       " 'DETENTION OFFICER',\n",
       " 'Nurse Assistant',\n",
       " 'Attorney, Partner',\n",
       " 'Senior Cleims Resolution Specialist ',\n",
       " 'Signal technician',\n",
       " 'housekeeper',\n",
       " 'staffing manager ',\n",
       " 'Security Supversivor and Security',\n",
       " 'Owner/ President ',\n",
       " 'Sprinkler Fitter Apprentice ',\n",
       " 'Senior manaher labor relations',\n",
       " 'Customer Servcie',\n",
       " 'Deputy Project Manager',\n",
       " 'Sr Police ',\n",
       " 'Drug Clerk',\n",
       " 'finance manager',\n",
       " 'Trademark Specialist',\n",
       " 'Senior Claims Repersentative',\n",
       " 'Pharmacy Technition',\n",
       " 'Traffic Coordinator ',\n",
       " 'Technical Sales Trainer',\n",
       " 'Loan Assist ',\n",
       " 'Owner/ Financial Professional',\n",
       " 'AVP of Operations ',\n",
       " 'Managed Repair Rep',\n",
       " 'Corporate Accounts Payable Manager',\n",
       " 'Contracting Officer',\n",
       " 'EXT specialist ',\n",
       " 'North Texas Program Manager',\n",
       " 'Sr. Supply Planner',\n",
       " 'Restaurante Manager ',\n",
       " 'Tugger operator',\n",
       " 'Pharmacy technician',\n",
       " 'register nurse',\n",
       " 'Manager, Immigration & Travel Services',\n",
       " 'Distributor Service Manager',\n",
       " 'General sales mgr',\n",
       " 'Aquatic Facility Manager',\n",
       " 'Auxiliary operator ',\n",
       " 'District Technical Manager ',\n",
       " 'Client Account Manager',\n",
       " 'Claims support ',\n",
       " 'In-School Service Coordinator ',\n",
       " 'GENERAL MANAGER',\n",
       " 'Financial Management Associate',\n",
       " 'Journeymen Electrician ',\n",
       " 'spa clerk',\n",
       " 'Senior Sales Operations Specialist',\n",
       " 'SPONGE INSPECTOR',\n",
       " 'Human resource specialist',\n",
       " 'Implementation Specialist ',\n",
       " 'provider maintenance rep. ',\n",
       " 'Teleservice representative',\n",
       " 'Coating Manager',\n",
       " 'Finance/HR Specialist',\n",
       " 'Variable Team Member at TMMWV',\n",
       " 'ESTIMATOR ',\n",
       " 'Medical Assistant/Phlebotomist',\n",
       " 'Senior Lead Investigator ',\n",
       " 'Marketing/Communication Coordinator',\n",
       " 'Retort operator',\n",
       " 'Director of Financial Aid - Compliance',\n",
       " 'Locomotive Engineer',\n",
       " 'Senior Comfort Advisor ',\n",
       " 'Bank Associate',\n",
       " 'Associate banker',\n",
       " 'Dryer Operator',\n",
       " 'Title Officer',\n",
       " 'Donor Specialist',\n",
       " 'Histology Lab Asisstant',\n",
       " 'Emergency Management Specialist ',\n",
       " 'AGENCY MANAGER',\n",
       " 'Aviation machinist mate',\n",
       " 'MedSurg. Nurse Manager ',\n",
       " 'teller supervisor',\n",
       " 'Mailing Services Manager',\n",
       " 'High School Social Studies Teacher',\n",
       " 'Field Project Manager',\n",
       " 'Principal of school',\n",
       " 'Shift leader ',\n",
       " 'Field Engineer, Sr',\n",
       " 'Clinic assistant/lead',\n",
       " 'Engineer Associate ',\n",
       " 'tracksman',\n",
       " 'Field Service Engineer',\n",
       " 'Retail Merchandiser',\n",
       " 'Manging Director',\n",
       " 'Engineer/Painter',\n",
       " 'Compliance Director',\n",
       " 'Digital & Marketing Manager',\n",
       " 'Cosmetic and Nail Tech',\n",
       " 'Enlisted ',\n",
       " 'QUALITY ASSURANCE ANALYST III',\n",
       " 'Doctor of Physical Therapist',\n",
       " 'office Assistant IV',\n",
       " 'Marketing Manager ',\n",
       " 'GENERAL CLERK',\n",
       " 'Shipping and Receiving Manager ',\n",
       " 'Kitchen Manager/ Chef',\n",
       " 'Product engineer',\n",
       " 'Director of Team Sales ',\n",
       " 'International Account Executive ',\n",
       " 'receiving manager',\n",
       " 'Staff Nnurse',\n",
       " 'Tech supervisor ',\n",
       " 'Senior Vice President, IT Manager',\n",
       " 'Sr. Route Manager',\n",
       " 'Human Resources specialist',\n",
       " 'Shipping Receiving Clerk',\n",
       " 'Rural Carrier',\n",
       " 'Payroll specialist',\n",
       " 'Director of Pool',\n",
       " 'Pest technician ',\n",
       " 'Integrated case worker ',\n",
       " 'Production Team Leader',\n",
       " 'Physical Education Instructor',\n",
       " 'Metal Finish',\n",
       " 'Operador equipo pesados ',\n",
       " 'Sr Credit Analyst',\n",
       " 'Shipping and receiving specialist ',\n",
       " 'Staff Tech',\n",
       " 'Office Manager I',\n",
       " 'Department ',\n",
       " 'certified medical assistant ',\n",
       " 'Recovery and Resolution Consultant',\n",
       " 'Media Specialist',\n",
       " 'Machine setup/operator',\n",
       " 'Store lead',\n",
       " 'Orderfiller',\n",
       " 'Regular Rural Carrier',\n",
       " 'General Counsel',\n",
       " 'Ider',\n",
       " 'Technology Analyst',\n",
       " 'Section Manager, US Cash Applications',\n",
       " 'Information Technician ',\n",
       " 'patient ambassador',\n",
       " 'Product Technician',\n",
       " 'Support engineer ',\n",
       " 'HS-2',\n",
       " 'facilities mechanic',\n",
       " 'Server/Expo',\n",
       " 'Field Sales Manager',\n",
       " 'Senior Associate, Accounts Payable',\n",
       " 'Supervisor Account Clerk',\n",
       " 'Upholstery',\n",
       " 'misa  specials ',\n",
       " 'Clinician ',\n",
       " 'Insurance Underwriter',\n",
       " 'Manager/ Personal Trainer',\n",
       " 'Student Affairs Assistant',\n",
       " 'street light repaiman',\n",
       " 'Customer Care Consultant ',\n",
       " 'Medical DIrector',\n",
       " 'Housekeeping supervidor',\n",
       " 'Licensed Utilization Review Sr',\n",
       " 'Medical Laboratory Technician ',\n",
       " 'Aerospace Engineer',\n",
       " 'Appeals Specialist II',\n",
       " 'Commercial banker',\n",
       " 'Manager, Registered Nurse',\n",
       " 'Metal fabrication ',\n",
       " 'Msr2',\n",
       " 'ROW Agent',\n",
       " 'Doctor of Chiropractic',\n",
       " 'mechanical designer',\n",
       " 'Propert manager ',\n",
       " 'Area product merchandiser ',\n",
       " 'freight handler',\n",
       " 'Process Engineer',\n",
       " 'Floral Supervisior',\n",
       " 'Pro Services Associate',\n",
       " 'Sr Administrative Specialist',\n",
       " 'Sound Manager',\n",
       " 'Receiving Associate',\n",
       " 'Office Manager/Secretary',\n",
       " 'Director of State Government Relations',\n",
       " 'Senior Advisor ',\n",
       " 'Motor Sergeant',\n",
       " 'Call Center Sales Supervisor 2',\n",
       " 'lot supervisor',\n",
       " 'Deputy Sheriff -Sergeant ',\n",
       " 'Visiting Researcher',\n",
       " 'Natural Resource Specialist',\n",
       " 'Bite Club Specialist',\n",
       " 'Ife associated ',\n",
       " 'Manager / Estimator',\n",
       " 'Change Over Coordinator',\n",
       " 'Manager, Refugee Sustained Support',\n",
       " ' engineer',\n",
       " 'CMTL-Deputy',\n",
       " 'Manager/ Sales ',\n",
       " 'Gaming Cashier',\n",
       " 'senior systems engineer',\n",
       " 'Deputy Probation Officer',\n",
       " 'Office administrator ',\n",
       " 'Airport Agent ',\n",
       " 'Community Associate',\n",
       " 'Combat Arms Instructor ',\n",
       " 'Word Processor',\n",
       " 'Senior Staff Test Engineer',\n",
       " 'Factory worker ',\n",
       " 'Field Operations Supervisor',\n",
       " 'Sr. Final Line Mechanic',\n",
       " 'Lead Welder ',\n",
       " 'international accounts manager',\n",
       " 'Telecommunications Operator ',\n",
       " 'pack associate ',\n",
       " 'Fleet technician ll',\n",
       " 'Administration Support',\n",
       " 'cheif mechanic',\n",
       " 'Child Welfare Specialist',\n",
       " 'Automotive technician',\n",
       " 'Service adivser',\n",
       " 'Network Architect',\n",
       " 'Community College Regional Manager',\n",
       " 'Supervisor Finance',\n",
       " 'Auto mechanic',\n",
       " 'Shipping/recieving ',\n",
       " 'Field Service Tech',\n",
       " 'Offer Processor ',\n",
       " 'CRC',\n",
       " 'SP Solutions Professional 4',\n",
       " 'Assistant District Attorney',\n",
       " 'Director of Care & Compassion',\n",
       " 'Auditing Supervisor',\n",
       " 'Materials Manager',\n",
       " 'Office Staff',\n",
       " 'Coordinator IV',\n",
       " 'Assistant Department manager ',\n",
       " 'Sr Analysis Analytics ',\n",
       " 'Staff Musician',\n",
       " 'Audit supervisor',\n",
       " 'Aerospace Stress Engineer',\n",
       " 'Janeter',\n",
       " 'Automated press sso',\n",
       " 'Admission Liason',\n",
       " 'HOME HEALTH AIDE ',\n",
       " 'Regional inside sales manager',\n",
       " 'Shipping and Receiving Specialist',\n",
       " 'Certified Home Care Aide',\n",
       " 'Assistant financial specialist',\n",
       " 'Senior manager B2B',\n",
       " 'SENIOR TITLE CLERK',\n",
       " 'Lead Aircraft Mechanic',\n",
       " 'Operations Crew Chief ',\n",
       " 'academic advisor',\n",
       " 'Mortgage Professional ',\n",
       " 'Air Traffice Systems Specialists',\n",
       " 'Railroad Engineer',\n",
       " 'Compensation Rep.',\n",
       " 'Pharmacy care Technician',\n",
       " 'School Bus Driver',\n",
       " 'Test Engineering Manager',\n",
       " 'Rehabilitation Therapist',\n",
       " 'Clinical Laboratory Scientist ',\n",
       " 'PEMB Manager',\n",
       " 'ACCOUNTING ADMINISTRATOR',\n",
       " 'Business Operations Mgr (VP)',\n",
       " 'surgical tech',\n",
       " 'management associate ',\n",
       " 'Senior hvac technician ',\n",
       " 'APPAREL/SALES',\n",
       " 'Material Handler ',\n",
       " 'Assistant director Personnel ',\n",
       " 'Diaper specialist ',\n",
       " 'Procurement manager ',\n",
       " 'raw materials handler',\n",
       " 'Gallery Coordinator. ',\n",
       " 'Financial Center Operations Manager',\n",
       " 'Court Clerk',\n",
       " 'MPS Senior Consultant',\n",
       " 'Land Tech',\n",
       " 'correctional officer ',\n",
       " 'Tool maker machinist',\n",
       " 'Accounting & Operations Coordinator',\n",
       " 'Director of F&B outlet',\n",
       " 'Table Games dealer',\n",
       " 'Director of Procurement ',\n",
       " 'Clinician-BCBA',\n",
       " 'Head of Product Design',\n",
       " 'Fiscal & Claims Analyst',\n",
       " 'Associate Director, Project Management',\n",
       " 'Confidential Investigator',\n",
       " 'Repairs',\n",
       " 'Sr. Pastor',\n",
       " 'Foreign affairs officer',\n",
       " 'Help Desk Analyst',\n",
       " 'Maintenance /Transportation Supervisor',\n",
       " 'Sound Engineer ',\n",
       " 'Visual Space Planner',\n",
       " 'Employee Benefits Specialist',\n",
       " 'Business partner services ',\n",
       " 'Senior Analyst ent Services',\n",
       " 'Co2 officer',\n",
       " 'Administration specialists',\n",
       " 'ELL Teacher',\n",
       " 'Director of House Operations',\n",
       " 'Senior Manager IT Project Management',\n",
       " 'Travel Consultant',\n",
       " 'Senior Supervisor ',\n",
       " 'Technical Professional II',\n",
       " 'Senior Information System Analyst',\n",
       " 'delivery driver',\n",
       " 'GM Expert of Toys',\n",
       " 'Inventory control ',\n",
       " 'Auditor sales',\n",
       " 'Manager, Capital Projects ',\n",
       " 'Payroll Clerk ',\n",
       " 'Maintenance/Operator',\n",
       " 'Safety Analyst',\n",
       " 'Radar Operator',\n",
       " 'Site  Op Manager',\n",
       " 'supervisor nutrition service',\n",
       " 'Associate professor and Department chair',\n",
       " 'IDD specialist 3',\n",
       " 'Hvac technician',\n",
       " 'Lead Service Attendant',\n",
       " 'MMMSupervisor',\n",
       " 'Branch director',\n",
       " 'NOC Operations',\n",
       " 'manager alterations',\n",
       " 'director of sales ',\n",
       " 'college professor',\n",
       " 'Nuclear Engineer',\n",
       " 'Customer Host',\n",
       " 'Population health nurse case manager',\n",
       " 'Diagnostic Electrician',\n",
       " 'Small business specialist ',\n",
       " ' Registered Nurse',\n",
       " 'Regional Loss Prevention Manager',\n",
       " 'Recreational Therapist ',\n",
       " 'Email Marketing and IT Support',\n",
       " 'FORD COMMERCIAL FLEET SALES MANAGER',\n",
       " 'VP of Business Affairs',\n",
       " 'Director Facilities & Real Estate',\n",
       " 'Vice Principal/Curriculum Coordinator',\n",
       " 'DRIVER SUPERVISOR ',\n",
       " 'Field Sales ',\n",
       " 'Network technology support specialist',\n",
       " 'Person in charge ',\n",
       " 'unit clerk',\n",
       " 'Assistant manager ',\n",
       " 'Realtor',\n",
       " 'Information Technology Technician II',\n",
       " 'dairy lead',\n",
       " 'United States Air Force ',\n",
       " 'Requirements Officer',\n",
       " 'Sales/Customer Service',\n",
       " 'clerical ',\n",
       " 'Support Staff',\n",
       " 'DSP2/CRMA',\n",
       " 'Loan processor ',\n",
       " 'Contract Specialist ',\n",
       " 'Claim Associate',\n",
       " 'customer service lead',\n",
       " 'IT Support Supervisor ',\n",
       " 'Employee Service Coordinator',\n",
       " 'Visual and Performing Arts Coordinator',\n",
       " 'Portfolio Manager ',\n",
       " 'Mortgage Processor ',\n",
       " 'Meat Manger',\n",
       " 'HR/Accounting Manager',\n",
       " 'Manager of labor management ',\n",
       " 'production associate',\n",
       " 'Anesthesia tech',\n",
       " 'Network Security Specialist',\n",
       " 'Engineer/Surveyor',\n",
       " 'Director of Community Relations ',\n",
       " 'MHE 2',\n",
       " 'HR Assistant',\n",
       " 'Bill of Materials Writer',\n",
       " 'Administrative Assistant III',\n",
       " 'Ambassador',\n",
       " 'Coding consultant',\n",
       " 'Special Ed Teacher',\n",
       " 'Deli Manager ',\n",
       " 'Commercial Loan Officer',\n",
       " 'Feed Marketing',\n",
       " 'PLANNER/SCHEDULER',\n",
       " 'vp it',\n",
       " 'Research & Training Specialist',\n",
       " 'pastor ',\n",
       " 'Help desk analyst',\n",
       " 'Union Finisher',\n",
       " 'Art Teacher',\n",
       " 'Speech Pathologist',\n",
       " 'Assistant Community Services Coordinator',\n",
       " 'Senior Safety Supervisor',\n",
       " 'manufacturing specialist',\n",
       " 'Field Engineer/ Inspector',\n",
       " 'Lobbyist',\n",
       " 'Property Manger ',\n",
       " 'Operation Manager ',\n",
       " 'Custodia ',\n",
       " 'Irrigation Foreman',\n",
       " 'Senior Electrical Engineer',\n",
       " 'Extruder Operator',\n",
       " 'Agency Sales Director',\n",
       " 'Senior Data Engineer',\n",
       " 'EDI Vnedor Relations Coordinator',\n",
       " 'Closing officer',\n",
       " 'Administrative Assistant/Data Entry',\n",
       " 'Onsite',\n",
       " 'National Dir of Franchise Development',\n",
       " 'Accounting Officer',\n",
       " 'lead',\n",
       " 'Milker',\n",
       " 'Customer Success Specialist',\n",
       " \"Director of Mission and Gov't Affairs\",\n",
       " 'receptionist/data entry clerk',\n",
       " 'IT ',\n",
       " 'Travel Agent ',\n",
       " 'Emergency Management Supervisor ',\n",
       " 'President, Consulting',\n",
       " 'Deputy Public Defender',\n",
       " 'National Coordinator',\n",
       " 'Renewal Account Manager',\n",
       " 'Clinical Research Coordinator Associate',\n",
       " 'CAD programer',\n",
       " 'Trainer/ Managet',\n",
       " 'Payroll',\n",
       " '11B Infantry ',\n",
       " 'V.P./ Supervisor',\n",
       " 'Benefit Specialist',\n",
       " 'assembly line worker',\n",
       " 'I&R and Follow up Coordinator',\n",
       " 'groom & book keeper',\n",
       " 'Call center representative ',\n",
       " 'Medical Receptionsit',\n",
       " 'UM Reviewer',\n",
       " 'Staffing Manager',\n",
       " 'SENIOR COMPLIANCE OFFICER',\n",
       " 'IT Clinical Analyst II',\n",
       " 'Corporate Banker',\n",
       " 'Team Coordinator',\n",
       " 'CPA, Sr Accountant',\n",
       " 'Fleet Sales Manager',\n",
       " 'Able Seaman',\n",
       " 'Technical Customer Support Senior',\n",
       " 'test loop',\n",
       " 'Sterile processing technician ',\n",
       " 'Truck Driver / Warehouse Handler ',\n",
       " 'Clinical care review nurse',\n",
       " 'Model maker',\n",
       " 'Student Financial Services Counselor',\n",
       " 'RN/ Nurse Manager',\n",
       " 'CVL Tech',\n",
       " 'Executive director ',\n",
       " 'Director/ Assessment and Accountability',\n",
       " 'Medical Sergeant',\n",
       " 'Compliance',\n",
       " 'Neurology Clinical Solutions Specialist',\n",
       " 'Trainmaster',\n",
       " 'Support Associate',\n",
       " 'Bakery manager ',\n",
       " 'Lead customer service ',\n",
       " 'sales reflief',\n",
       " 'admin services officer',\n",
       " 'Sr. Human Resource Manager',\n",
       " 'Energy Management Technician',\n",
       " 'Loss Prevention Counselor',\n",
       " 'Quality control inspector ',\n",
       " 'Workforce Manager',\n",
       " 'mammographer',\n",
       " 'Teacher Specialist ',\n",
       " 'collection rep',\n",
       " 'Bookbinder IV',\n",
       " 'Texhnician',\n",
       " 'Production manager 2',\n",
       " 'Service Rep',\n",
       " 'Head of Marketing Campaigns',\n",
       " 'Director of Artistic Administration',\n",
       " 'Certified Medical Assistant, Team Lead',\n",
       " 'Dental Assistance ',\n",
       " 'Corporate Trainer',\n",
       " 'Executive Assistant/Office Manager',\n",
       " 'Implementation Services Manager',\n",
       " 'LP',\n",
       " 'Warehouse Specialist ',\n",
       " 'Lab worker ',\n",
       " 'Imperial Potentate',\n",
       " 'Senior Backend Engineer',\n",
       " 'SR VP/ Treasurer',\n",
       " 'Chef/Manager',\n",
       " 'Mortgage Loan Consultant',\n",
       " 'AOG Expeditor ',\n",
       " 'Sales coordinator',\n",
       " 'Supported employment specialist ',\n",
       " 'operations ',\n",
       " 'Traffic Enforcement Specialist',\n",
       " 'Web Development Engineer',\n",
       " 'Nuclear Medicine Lead Technologist',\n",
       " 'Officer Assistant',\n",
       " 'Mechanical Assembler',\n",
       " 'Benefits Specialist',\n",
       " 'senior moldmaker',\n",
       " 'Security Contractor',\n",
       " 'Assistant plant manager',\n",
       " 'Front Office supervisor ',\n",
       " 'Certified nursing assistant ',\n",
       " 'Deputy Chief / Fire Marshal',\n",
       " 'Director customer support',\n",
       " 'Lower School Science Specialist',\n",
       " 'Real Estate Contract Manager',\n",
       " 'Route Analyst',\n",
       " 'Senior Counsel ',\n",
       " 'Journeyman Pipefitters',\n",
       " 'Central service tech ',\n",
       " 'Program Associate ',\n",
       " 'Patient Acces Rep',\n",
       " 'mission support assistant ',\n",
       " 'saw filer',\n",
       " 'Behavioral Health Clinician 1',\n",
       " 'Meat Cutter ',\n",
       " 'Graphic Designer & Social Media Manager',\n",
       " 'Operations Analyst III',\n",
       " 'Document Specialist ',\n",
       " 'Environmental Inspection Specialist',\n",
       " 'Accounting Manager ',\n",
       " 'Sr Materials Supervisor',\n",
       " 'Mentoring Program Coordinator',\n",
       " 'Motor Sergeant ',\n",
       " 'Napkin Operator ',\n",
       " 'safety supervisor',\n",
       " 'Eligibility supervisor ',\n",
       " 'AGENT/TERMINAL MANAGER',\n",
       " 'Director of Advancement',\n",
       " 'VP of Automotive Operations',\n",
       " 'Calims Adjuster',\n",
       " 'Recreation Therapy Coordinator',\n",
       " 'Lead Sales Manager ',\n",
       " 'VICIPRESIDENTE',\n",
       " 'Radiation therapist',\n",
       " 'RF packaging specialist',\n",
       " 'Construcción ',\n",
       " 'Customer service team manager ',\n",
       " 'Railroad Conductor ',\n",
       " 'Tree trimmer',\n",
       " 'Proposition, GTM - Lead Customer Insight',\n",
       " 'Plant Operations Manager',\n",
       " 'Deputy Cletk',\n",
       " 'Case Aide',\n",
       " 'Restaurant Systems Coordinator ',\n",
       " 'bakery packer',\n",
       " 'Finance Officer ',\n",
       " 'Lead Master Technician',\n",
       " 'Manager- Energy Oil&Gas',\n",
       " 'Director of Field Operations',\n",
       " 'Senior retail consultant',\n",
       " 'Expanded Function Dental Asst ',\n",
       " 'ESL instructor ',\n",
       " 'packaging supervisor',\n",
       " 'Vice President / District Manager',\n",
       " 'Senior Retail Operations Manager',\n",
       " 'Training Non Commissioned Officer ',\n",
       " 'Lab Technician Asst.',\n",
       " ' \\tManager of Infant & Shelter Programs',\n",
       " 'Sergeant of Police',\n",
       " 'Engine Specialist',\n",
       " 'self employed',\n",
       " 'Distribution Center / ASRS Specialist ',\n",
       " 'Director of Billing and Collections',\n",
       " '3rd grade teacher',\n",
       " 'Senior Lease Analyst',\n",
       " 'technical services',\n",
       " 'Medical Records Coordinator',\n",
       " 'Community Developer',\n",
       " 'airport traffic officer',\n",
       " 'Senior Manager Business ANalysis',\n",
       " 'program support assistant',\n",
       " 'Senior Real Estate Processor',\n",
       " 'Lighting Manager',\n",
       " 'Medical secretary ',\n",
       " 'Retail sales consultant',\n",
       " 'Dispatcher/Office Manager',\n",
       " 'Signal Support Specialist ',\n",
       " 'Customer Care Manager',\n",
       " 'Golf Course Superintendent ',\n",
       " 'First Class Petty Officer',\n",
       " 'Cardiovascular Specialist ',\n",
       " 'Attorney - Partner',\n",
       " 'Program manager',\n",
       " 'senior facility technician',\n",
       " 'office technician ',\n",
       " 'Financial Center Manager  ',\n",
       " 'Webmaster',\n",
       " 'marketing analyst',\n",
       " 'VP Operations manager ',\n",
       " 'IT Specialist Security',\n",
       " 'Corrections Officer 1',\n",
       " 'Admin. Support',\n",
       " 'Aircraft maintenance manager ',\n",
       " 'Director of Registry Services',\n",
       " 'Application Technologist',\n",
       " 'Health service administrator ',\n",
       " 'Lead Legal Assistant ',\n",
       " 'Senior Deep Learning Engineer',\n",
       " 'Hiring Specialist ',\n",
       " 'Trade Foreman 2   Labor Foreman',\n",
       " 'Communications Electronic tech ',\n",
       " 'Parthner',\n",
       " 'Clinical Registrar',\n",
       " 'Textile Worker',\n",
       " 'LONGSHOREMEN ',\n",
       " 'Child protective service specialist',\n",
       " 'Design Manager',\n",
       " 'Mine foreman',\n",
       " 'Deputy General Counsel',\n",
       " 'Senior Escrow Manager',\n",
       " 'Director, Human Resources',\n",
       " 'Supt',\n",
       " 'Administrative Associate II',\n",
       " 'Mobile expert',\n",
       " 'GLOBAL PROCESS OWNER',\n",
       " 'CRS',\n",
       " 'ICU Supervisor',\n",
       " 'Director of Buildings and Grounds ',\n",
       " 'Drafting Supervisor',\n",
       " 'Maitenence technician ',\n",
       " 'Global Sales Director',\n",
       " 'Training Officer',\n",
       " 'Human Services Administrator I',\n",
       " 'gen mgr',\n",
       " 'Account Service Representative ',\n",
       " 'Concierge/Administrative Specialist',\n",
       " 'Sr. Policy and Compliance Administrator',\n",
       " 'Crew Chief Material Logistics Specialist',\n",
       " 'Lead Service Technician ',\n",
       " 'Supervisor, Central Kitchen Production ',\n",
       " 'Cytology Prep Technician ',\n",
       " 'Engineer Officer',\n",
       " 'Senior Director, Engineering',\n",
       " 'Application Support Specialist',\n",
       " 'Hourly foreman 2',\n",
       " 'Chief (E-7)',\n",
       " 'Shift Leader/Overnight Manager',\n",
       " 'SAFETY MANAGER',\n",
       " 'RphT',\n",
       " 'Corporate Agreement Specialist',\n",
       " 'Emergency Medical Technician ',\n",
       " 'Research and Development Specialist',\n",
       " 'HR ',\n",
       " 'Lead inspector / project manager',\n",
       " 'Reserve Firefighter',\n",
       " 'Bartender / server / manager',\n",
       " 'Sr Manager, Software Engineering',\n",
       " 'Bar tender',\n",
       " 'QA ',\n",
       " 'Retail Inventory Control Analyst',\n",
       " 'Loom Technician ',\n",
       " 'Operations Project Manager',\n",
       " 'IT Mgr',\n",
       " 'Tree treemmer',\n",
       " 'Production Owner',\n",
       " 'Printer - Graphics Department',\n",
       " 'Field service technician ',\n",
       " 'Footwear Design Manager',\n",
       " 'Broadcast Promotion Specialist',\n",
       " 'Tow Truck Operator',\n",
       " 'chief financial Officer',\n",
       " 'Security officet',\n",
       " 'Canvases Manager',\n",
       " 'Associate Producer',\n",
       " ...}"
      ]
     },
     "execution_count": 67,
     "metadata": {},
     "output_type": "execute_result"
    }
   ],
   "source": [
    "set(data[\"emp_title\"])"
   ]
  },
  {
   "cell_type": "markdown",
   "metadata": {},
   "source": [
    "#### *Employment Length*\n",
    "The amount of time that someone has been employed can reveal information about not only job stability, but also experience with managing finances and responsibility to repay loans. Longer employment length could mean that the borrower is more likely to pay off their debt since they have less risk of becoming unemploymed and a more organized financial plan than borrowers with less experience."
   ]
  },
  {
   "cell_type": "code",
   "execution_count": 69,
   "metadata": {
    "scrolled": true
   },
   "outputs": [
    {
     "data": {
      "text/plain": [
       "{'1 year',\n",
       " '10+ years',\n",
       " '2 years',\n",
       " '3 years',\n",
       " '4 years',\n",
       " '5 years',\n",
       " '6 years',\n",
       " '7 years',\n",
       " '8 years',\n",
       " '9 years',\n",
       " '< 1 year',\n",
       " nan}"
      ]
     },
     "execution_count": 69,
     "metadata": {},
     "output_type": "execute_result"
    }
   ],
   "source": [
    "set(data[\"emp_length\"])"
   ]
  },
  {
   "cell_type": "markdown",
   "metadata": {},
   "source": [
    "### Loan Date\n",
    "Loans are requested at different times throughout the year. However, some months may be more popular than others for a vareity of reasons which could have an impact to default. For example, there may be a time during the year where the economy performs poorly and people are in need of financing. The *issue_d* column contains data about the month in which the loan was funded, which will be very useful when joining our economy data with the lending data. For now, we sohuld understand which months and years are the most common for requesting a loan."
   ]
  },
  {
   "cell_type": "code",
   "execution_count": 6,
   "metadata": {},
   "outputs": [
    {
     "data": {
      "text/plain": [
       "0    Sep-2019\n",
       "1    Sep-2019\n",
       "2    Sep-2019\n",
       "3    Sep-2019\n",
       "4    Sep-2019\n",
       "Name: issue_d, dtype: object"
      ]
     },
     "execution_count": 6,
     "metadata": {},
     "output_type": "execute_result"
    }
   ],
   "source": [
    "data[\"issue_d\"].head()"
   ]
  },
  {
   "cell_type": "code",
   "execution_count": 5,
   "metadata": {},
   "outputs": [],
   "source": [
    "data[\"year\"] = pd.to_datetime(data[\"issue_d\"]).dt.year\n",
    "data[\"month\"] = pd.to_datetime(data[\"issue_d\"]).dt.month"
   ]
  },
  {
   "cell_type": "code",
   "execution_count": 45,
   "metadata": {},
   "outputs": [
    {
     "data": {
      "text/plain": [
       "Text(0, 0.5, 'Number of Loans')"
      ]
     },
     "execution_count": 45,
     "metadata": {},
     "output_type": "execute_result"
    },
    {
     "data": {
      "image/png": "[encoded data removed]",
      "text/plain": [
       "<Figure size 720x360 with 1 Axes>"
      ]
     },
     "metadata": {
      "needs_background": "light"
     },
     "output_type": "display_data"
    }
   ],
   "source": [
    "plt.figure(figsize=(10, 5))\n",
    "sns.barplot('month', 'loan_amnt', data=data)\n",
    "plt.title('Months of Loan Requests', fontsize=15)\n",
    "plt.xlabel('Month', fontsize=13)\n",
    "plt.ylabel('Number of Loans', fontsize=13)"
   ]
  },
  {
   "cell_type": "markdown",
   "metadata": {},
   "source": [
    "Similar to previous features explored, the *loan_status* can be be a hue for the bar plot that shows the total amount of loans ongoing, fully paid, charged off, etc... by month of the loan."
   ]
  },
  {
   "cell_type": "code",
   "execution_count": 44,
   "metadata": {},
   "outputs": [
    {
     "data": {
      "text/plain": [
       "Text(0, 0.5, 'Number of Loans')"
      ]
     },
     "execution_count": 44,
     "metadata": {},
     "output_type": "execute_result"
    },
    {
     "data": {
      "image/png": "[encoded data removed]",
      "text/plain": [
       "<Figure size 864x576 with 1 Axes>"
      ]
     },
     "metadata": {
      "needs_background": "light"
     },
     "output_type": "display_data"
    }
   ],
   "source": [
    "plt.figure(figsize=(12, 8))\n",
    "sns.barplot('month', 'loan_amnt', data=data, hue=\"loan_status\")\n",
    "plt.title('Months of Loan Requests', fontsize=15)\n",
    "plt.xlabel('Month', fontsize=13)\n",
    "plt.ylabel('Number of Loans', fontsize=13)"
   ]
  },
  {
   "cell_type": "code",
   "execution_count": null,
   "metadata": {},
   "outputs": [],
   "source": [
    "'''\n",
    "plt.figure(figsize=(12, 8))\n",
    "sns.barplot('year', 'loan_amnt', data=data)\n",
    "plt.title('Years of Loan Requests', fontsize=15)\n",
    "plt.xlabel('Year', fontsize=13)\n",
    "plt.ylabel('Number of Loans', fontsize=13)\n",
    "'''"
   ]
  },
  {
   "cell_type": "markdown",
   "metadata": {},
   "source": [
    "It can be observed that some months and years have more requested loans than others, which may be helpful information when put into context of the macroeconomic condition. As shown in the plots where *loan_status* is an additional hue, there are varying amounts of loans that were charged off throughout these time periods. Some months and years have much more charged off loans than others, which is very interesting: the time of a loan seems to have an impact on its status. When there is a turndown and factors like unemployment rise, people may be inclined to attain financing for their activities, but may have difficulty paying back. This topic will explored in another notebook with the joined data, where we will evaluate the extent to which macroeconomic factors contribute towards default."
   ]
  },
  {
   "cell_type": "markdown",
   "metadata": {},
   "source": [
    "### Location\n",
    "The address of the borrower is also a potential indicator for *loan_status* since different areas of the countries have varying economic conditions. For example, areas near the rust belt could have lower incomes and higher unemployment, while areas in California could be significantly wealthier. This feature is important when joining the macroeconomic data because states have varying macroecjonomic factors and the data will be joined by the corresponding location. For now, it's good to visualze and analyze which states had more charge offs than others, which could provide insight about locations with poorer economies, a potentially important factor to predicting the outcome of a loan."
   ]
  },
  {
   "cell_type": "code",
   "execution_count": 63,
   "metadata": {},
   "outputs": [
    {
     "data": {
      "text/plain": [
       "0          WY\n",
       "1          WI\n",
       "2          TX\n",
       "3          MT\n",
       "4          WI\n",
       "         ... \n",
       "143016     CA\n",
       "143017     CA\n",
       "143018     IN\n",
       "143019    NaN\n",
       "143020    NaN\n",
       "Name: addr_state, Length: 143021, dtype: object"
      ]
     },
     "execution_count": 63,
     "metadata": {},
     "output_type": "execute_result"
    }
   ],
   "source": [
    "data[\"addr_state\"]"
   ]
  },
  {
   "cell_type": "code",
   "execution_count": 65,
   "metadata": {},
   "outputs": [
    {
     "data": {
      "image/png": "[encoded data removed]",
      "text/plain": [
       "<Figure size 1440x720 with 1 Axes>"
      ]
     },
     "metadata": {
      "needs_background": "light"
     },
     "output_type": "display_data"
    },
    {
     "data": {
      "text/plain": [
       "<matplotlib.axes._subplots.AxesSubplot at 0x131dc0278>"
      ]
     },
     "execution_count": 65,
     "metadata": {},
     "output_type": "execute_result"
    }
   ],
   "source": [
    "plt.figure()\n",
    "fig = plt.gcf() #creates the plot figure object\n",
    "fig.set_size_inches(20, 10) #sets the plot size\n",
    "plots.barplot(data, \"addr_state\", \"loan_amnt\")"
   ]
  },
  {
   "cell_type": "code",
   "execution_count": null,
   "metadata": {},
   "outputs": [],
   "source": [
    "# *In progress* making geospatial plot w/ plotly"
   ]
  },
  {
   "cell_type": "markdown",
   "metadata": {},
   "source": [
    "### FICO Score (Credit Score)\n",
    "One of the most fundamental indicators of a borrower's reliability to pay back their loan is their credit score. The FICO score is a trusted source of credit score determination and is evaluated when issuing loans. It will be useful to understand the distribution of FICO scores in the data which will be important in predicting the *loan_status*, as people with lower FICO scores are expected to have more charge offs."
   ]
  },
  {
   "cell_type": "markdown",
   "metadata": {},
   "source": [
    "The data contains two FICO score columns, one containing the highest score that the borrower had during the loan period, and the other containing the lowest score. To combine these scores, we can simply take the average of them since it is highly unlikely that someone's credit score will go from poor to excellent in the short-term duration of the loan."
   ]
  },
  {
   "cell_type": "code",
   "execution_count": 55,
   "metadata": {},
   "outputs": [
    {
     "data": {
      "text/plain": [
       "0    737.0\n",
       "1    777.0\n",
       "2    682.0\n",
       "3    672.0\n",
       "4    722.0\n",
       "Name: fico_average, dtype: float64"
      ]
     },
     "execution_count": 55,
     "metadata": {},
     "output_type": "execute_result"
    }
   ],
   "source": [
    "data[\"fico_average\"] = (data[\"fico_range_high\"] + data[\"fico_range_low\"])/2\n",
    "data[\"fico_average\"].head()"
   ]
  },
  {
   "cell_type": "markdown",
   "metadata": {},
   "source": [
    "Here is the distribution of FICO scores across the dataset for borrowers. It appears unimodal and skewed right, with more people in the data having scores around 700. This makes sense, as many people may need financing to pay off some debt or for other purposes, while those with very high credit scores (>800) are less likely in need of a loan."
   ]
  },
  {
   "cell_type": "code",
   "execution_count": 56,
   "metadata": {},
   "outputs": [
    {
     "data": {
      "text/plain": [
       "<matplotlib.axes._subplots.AxesSubplot at 0x12db94b00>"
      ]
     },
     "execution_count": 56,
     "metadata": {},
     "output_type": "execute_result"
    },
    {
     "data": {
      "image/png": "[encoded data removed]",
      "text/plain": [
       "<Figure size 432x288 with 1 Axes>"
      ]
     },
     "metadata": {
      "needs_background": "light"
     },
     "output_type": "display_data"
    }
   ],
   "source": [
    "plots.histogram(\"fico_average\", data, kde=True)"
   ]
  },
  {
   "cell_type": "markdown",
   "metadata": {},
   "source": [
    "There has been a generally agreed upon distribution of FICO score ranges that fall into different categories of someone's credit. This range is used in the function below, where we can convert each borrower's FICO score to a category for better understanding and analysis of default."
   ]
  },
  {
   "cell_type": "code",
   "execution_count": 57,
   "metadata": {},
   "outputs": [
    {
     "data": {
      "text/plain": [
       "0         Good\n",
       "1    Very Good\n",
       "2         Good\n",
       "3         Good\n",
       "4         Good\n",
       "Name: fico_rating, dtype: object"
      ]
     },
     "execution_count": 57,
     "metadata": {},
     "output_type": "execute_result"
    }
   ],
   "source": [
    "def fico_rating(fico_score):\n",
    "    \"\"\"\n",
    "    Converts raw FICO score to a categorical assessment of borrower's credit.\n",
    "    \n",
    "    :param fico_score: FICO score of borrower\n",
    "    :returns: rating of FICO score\n",
    "    \"\"\"\n",
    "    if 579 >= fico_score >= 300:\n",
    "        return \"Poor\"\n",
    "    elif 669 >= fico_score >= 580:\n",
    "        return \"Fair\"\n",
    "    elif 739 >= fico_score >= 670:\n",
    "        return \"Good\"\n",
    "    elif 799 >= fico_score >= 740:\n",
    "        return \"Very Good\"\n",
    "    elif fico_score >= 800:\n",
    "        return \"Exceptional\"\n",
    "    \n",
    "    \n",
    "data[\"fico_rating\"] = data[\"fico_average\"].apply(fico_rating)\n",
    "data[\"fico_rating\"].head()"
   ]
  },
  {
   "cell_type": "markdown",
   "metadata": {},
   "source": [
    "Now we can visualize the loan amounts requested by each category of FICO scores, which will show whether borrowers with higher scores request more than lower scores. Furthermore, it's very useful to include a hue of loan status as well to understand if certain score categories had higher rates of charge offs when requesting larger amounts."
   ]
  },
  {
   "cell_type": "code",
   "execution_count": 60,
   "metadata": {},
   "outputs": [
    {
     "data": {
      "image/png": "[encoded data removed]",
      "text/plain": [
       "<Figure size 1440x720 with 1 Axes>"
      ]
     },
     "metadata": {
      "needs_background": "light"
     },
     "output_type": "display_data"
    },
    {
     "data": {
      "text/plain": [
       "<matplotlib.axes._subplots.AxesSubplot at 0x1305d8080>"
      ]
     },
     "execution_count": 60,
     "metadata": {},
     "output_type": "execute_result"
    }
   ],
   "source": [
    "plt.figure()\n",
    "fig = plt.gcf() \n",
    "fig.set_size_inches(20, 10)\n",
    "plots.barplot(data, \"fico_rating\", \"loan_amnt\", hue=\"loan_status\")"
   ]
  },
  {
   "cell_type": "code",
   "execution_count": null,
   "metadata": {},
   "outputs": [],
   "source": []
  }
 ],
 "metadata": {
  "kernelspec": {
   "display_name": "Python 3",
   "language": "python",
   "name": "python3"
  },
  "language_info": {
   "codemirror_mode": {
    "name": "ipython",
    "version": 3
   },
   "file_extension": ".py",
   "mimetype": "text/x-python",
   "name": "python",
   "nbconvert_exporter": "python",
   "pygments_lexer": "ipython3",
   "version": "3.6.8"
  }
 },
 "nbformat": 4,
 "nbformat_minor": 2
}
