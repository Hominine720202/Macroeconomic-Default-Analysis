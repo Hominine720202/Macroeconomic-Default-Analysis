{
 "cells": [
  {
   "cell_type": "markdown",
   "metadata": {},
   "source": [
    "# EDA & Data Visualization\n",
    "Because there are so many features in our loaning dataset, it's important to explore associations between them and identify the most significant factors contributing to default. In this notebook, univariate, bivariate, and multivariate analysis will be performed to understand the data better to build the model. "
   ]
  },
  {
   "cell_type": "markdown",
   "metadata": {},
   "source": [
    "### Imports"
   ]
  },
  {
   "cell_type": "code",
   "execution_count": 1,
   "metadata": {},
   "outputs": [
    {
     "name": "stdout",
     "output_type": "stream",
     "text": [
      "['Processed.csv']\n"
     ]
    }
   ],
   "source": [
    "import pandas as pd\n",
    "import numpy as np\n",
    "\n",
    "from matplotlib import pyplot as plt\n",
    "import seaborn as sns\n",
    "%matplotlib inline\n",
    "sns.set_style(\"whitegrid\")\n",
    "\n",
    "import warnings\n",
    "warnings.filterwarnings(\"ignore\")\n",
    "\n",
    "%load_ext autoreload\n",
    "%autoreload 2\n",
    "\n",
    "import sys\n",
    "sys.path.insert(0, \"../src/visualization\") # access custom files\n",
    "\n",
    "# import custom files\n",
    "import plots\n",
    "\n",
    "import os \n",
    "print(os.listdir(\"../data/LendingClub/processed\"))"
   ]
  },
  {
   "cell_type": "markdown",
   "metadata": {},
   "source": [
    "### Loading and Inspecting Data\n",
    "We have already cleaned parts of the raw data from LendingClub in the previous notebook, *Preprocessing.ipynb*, and we will use this version to create plots and look for interesting details about certain features. Some attributes like the loan *id*, and other unique features aren't very useful to inspect so they will be dropped from analysis."
   ]
  },
  {
   "cell_type": "code",
   "execution_count": 5,
   "metadata": {},
   "outputs": [
    {
     "name": "stdout",
     "output_type": "stream",
     "text": [
      "Rows: 143019  Columns: 108\n"
     ]
    },
    {
     "data": {
      "text/html": [
       "<div>\n",
       "<style scoped>\n",
       "    .dataframe tbody tr th:only-of-type {\n",
       "        vertical-align: middle;\n",
       "    }\n",
       "\n",
       "    .dataframe tbody tr th {\n",
       "        vertical-align: top;\n",
       "    }\n",
       "\n",
       "    .dataframe thead th {\n",
       "        text-align: right;\n",
       "    }\n",
       "</style>\n",
       "<table border=\"1\" class=\"dataframe\">\n",
       "  <thead>\n",
       "    <tr style=\"text-align: right;\">\n",
       "      <th></th>\n",
       "      <th>Unnamed: 0</th>\n",
       "      <th>id</th>\n",
       "      <th>loan_amnt</th>\n",
       "      <th>funded_amnt</th>\n",
       "      <th>funded_amnt_inv</th>\n",
       "      <th>term</th>\n",
       "      <th>int_rate</th>\n",
       "      <th>installment</th>\n",
       "      <th>grade</th>\n",
       "      <th>sub_grade</th>\n",
       "      <th>...</th>\n",
       "      <th>pct_tl_nvr_dlq</th>\n",
       "      <th>percent_bc_gt_75</th>\n",
       "      <th>pub_rec_bankruptcies</th>\n",
       "      <th>tax_liens</th>\n",
       "      <th>tot_hi_cred_lim</th>\n",
       "      <th>total_bal_ex_mort</th>\n",
       "      <th>total_bc_limit</th>\n",
       "      <th>total_il_high_credit_limit</th>\n",
       "      <th>hardship_flag</th>\n",
       "      <th>debt_settlement_flag</th>\n",
       "    </tr>\n",
       "  </thead>\n",
       "  <tbody>\n",
       "    <tr>\n",
       "      <th>0</th>\n",
       "      <td>0</td>\n",
       "      <td>159170615</td>\n",
       "      <td>16000.0</td>\n",
       "      <td>16000.0</td>\n",
       "      <td>16000.0</td>\n",
       "      <td>36 months</td>\n",
       "      <td>17.74</td>\n",
       "      <td>576.36</td>\n",
       "      <td>2</td>\n",
       "      <td>14</td>\n",
       "      <td>...</td>\n",
       "      <td>100.0</td>\n",
       "      <td>50.0</td>\n",
       "      <td>0.0</td>\n",
       "      <td>0.0</td>\n",
       "      <td>33853.0</td>\n",
       "      <td>26947.0</td>\n",
       "      <td>5500.0</td>\n",
       "      <td>28353.0</td>\n",
       "      <td>N</td>\n",
       "      <td>N</td>\n",
       "    </tr>\n",
       "    <tr>\n",
       "      <th>1</th>\n",
       "      <td>1</td>\n",
       "      <td>159210254</td>\n",
       "      <td>10000.0</td>\n",
       "      <td>10000.0</td>\n",
       "      <td>10000.0</td>\n",
       "      <td>60 months</td>\n",
       "      <td>15.24</td>\n",
       "      <td>239.17</td>\n",
       "      <td>2</td>\n",
       "      <td>11</td>\n",
       "      <td>...</td>\n",
       "      <td>100.0</td>\n",
       "      <td>0.0</td>\n",
       "      <td>0.0</td>\n",
       "      <td>0.0</td>\n",
       "      <td>56504.0</td>\n",
       "      <td>29835.0</td>\n",
       "      <td>17800.0</td>\n",
       "      <td>35704.0</td>\n",
       "      <td>N</td>\n",
       "      <td>N</td>\n",
       "    </tr>\n",
       "    <tr>\n",
       "      <th>2</th>\n",
       "      <td>2</td>\n",
       "      <td>159226028</td>\n",
       "      <td>15000.0</td>\n",
       "      <td>15000.0</td>\n",
       "      <td>15000.0</td>\n",
       "      <td>60 months</td>\n",
       "      <td>14.30</td>\n",
       "      <td>351.37</td>\n",
       "      <td>2</td>\n",
       "      <td>10</td>\n",
       "      <td>...</td>\n",
       "      <td>91.4</td>\n",
       "      <td>33.3</td>\n",
       "      <td>0.0</td>\n",
       "      <td>0.0</td>\n",
       "      <td>301623.0</td>\n",
       "      <td>95559.0</td>\n",
       "      <td>45500.0</td>\n",
       "      <td>99724.0</td>\n",
       "      <td>N</td>\n",
       "      <td>N</td>\n",
       "    </tr>\n",
       "    <tr>\n",
       "      <th>3</th>\n",
       "      <td>3</td>\n",
       "      <td>159328733</td>\n",
       "      <td>24000.0</td>\n",
       "      <td>24000.0</td>\n",
       "      <td>24000.0</td>\n",
       "      <td>36 months</td>\n",
       "      <td>10.33</td>\n",
       "      <td>778.14</td>\n",
       "      <td>1</td>\n",
       "      <td>5</td>\n",
       "      <td>...</td>\n",
       "      <td>90.9</td>\n",
       "      <td>0.0</td>\n",
       "      <td>0.0</td>\n",
       "      <td>0.0</td>\n",
       "      <td>383103.0</td>\n",
       "      <td>154703.0</td>\n",
       "      <td>27600.0</td>\n",
       "      <td>149226.0</td>\n",
       "      <td>N</td>\n",
       "      <td>N</td>\n",
       "    </tr>\n",
       "    <tr>\n",
       "      <th>4</th>\n",
       "      <td>4</td>\n",
       "      <td>159374118</td>\n",
       "      <td>15000.0</td>\n",
       "      <td>15000.0</td>\n",
       "      <td>15000.0</td>\n",
       "      <td>36 months</td>\n",
       "      <td>11.02</td>\n",
       "      <td>491.23</td>\n",
       "      <td>1</td>\n",
       "      <td>6</td>\n",
       "      <td>...</td>\n",
       "      <td>85.7</td>\n",
       "      <td>20.0</td>\n",
       "      <td>0.0</td>\n",
       "      <td>0.0</td>\n",
       "      <td>440587.0</td>\n",
       "      <td>65451.0</td>\n",
       "      <td>22600.0</td>\n",
       "      <td>54887.0</td>\n",
       "      <td>N</td>\n",
       "      <td>N</td>\n",
       "    </tr>\n",
       "  </tbody>\n",
       "</table>\n",
       "<p>5 rows × 108 columns</p>\n",
       "</div>"
      ],
      "text/plain": [
       "   Unnamed: 0         id  loan_amnt  funded_amnt  funded_amnt_inv        term  \\\n",
       "0           0  159170615    16000.0      16000.0          16000.0   36 months   \n",
       "1           1  159210254    10000.0      10000.0          10000.0   60 months   \n",
       "2           2  159226028    15000.0      15000.0          15000.0   60 months   \n",
       "3           3  159328733    24000.0      24000.0          24000.0   36 months   \n",
       "4           4  159374118    15000.0      15000.0          15000.0   36 months   \n",
       "\n",
       "   int_rate  installment  grade  sub_grade  ... pct_tl_nvr_dlq  \\\n",
       "0     17.74       576.36      2         14  ...          100.0   \n",
       "1     15.24       239.17      2         11  ...          100.0   \n",
       "2     14.30       351.37      2         10  ...           91.4   \n",
       "3     10.33       778.14      1          5  ...           90.9   \n",
       "4     11.02       491.23      1          6  ...           85.7   \n",
       "\n",
       "  percent_bc_gt_75 pub_rec_bankruptcies  tax_liens tot_hi_cred_lim  \\\n",
       "0             50.0                  0.0        0.0         33853.0   \n",
       "1              0.0                  0.0        0.0         56504.0   \n",
       "2             33.3                  0.0        0.0        301623.0   \n",
       "3              0.0                  0.0        0.0        383103.0   \n",
       "4             20.0                  0.0        0.0        440587.0   \n",
       "\n",
       "  total_bal_ex_mort  total_bc_limit total_il_high_credit_limit hardship_flag  \\\n",
       "0           26947.0          5500.0                    28353.0             N   \n",
       "1           29835.0         17800.0                    35704.0             N   \n",
       "2           95559.0         45500.0                    99724.0             N   \n",
       "3          154703.0         27600.0                   149226.0             N   \n",
       "4           65451.0         22600.0                    54887.0             N   \n",
       "\n",
       "  debt_settlement_flag  \n",
       "0                    N  \n",
       "1                    N  \n",
       "2                    N  \n",
       "3                    N  \n",
       "4                    N  \n",
       "\n",
       "[5 rows x 108 columns]"
      ]
     },
     "execution_count": 5,
     "metadata": {},
     "output_type": "execute_result"
    }
   ],
   "source": [
    "processed_path = \"../data/LendingClub/processed/Processed.csv\"\n",
    "data = pd.read_csv(processed_path)\n",
    "print(\"Rows: \" + str(data.shape[0]) + \"  Columns: \" + str(data.shape[1]))\n",
    "data.head()"
   ]
  },
  {
   "cell_type": "code",
   "execution_count": 3,
   "metadata": {},
   "outputs": [
    {
     "data": {
      "text/plain": [
       "Index(['Unnamed: 0', 'id', 'loan_amnt', 'funded_amnt', 'funded_amnt_inv',\n",
       "       'term', 'int_rate', 'installment', 'grade', 'sub_grade',\n",
       "       ...\n",
       "       'pct_tl_nvr_dlq', 'percent_bc_gt_75', 'pub_rec_bankruptcies',\n",
       "       'tax_liens', 'tot_hi_cred_lim', 'total_bal_ex_mort', 'total_bc_limit',\n",
       "       'total_il_high_credit_limit', 'hardship_flag', 'debt_settlement_flag'],\n",
       "      dtype='object', length=108)"
      ]
     },
     "execution_count": 3,
     "metadata": {},
     "output_type": "execute_result"
    }
   ],
   "source": [
    "data.columns"
   ]
  },
  {
   "cell_type": "markdown",
   "metadata": {},
   "source": [
    "### Loan Status\n",
    "We should first explore the label we are trying to predict, which is the loan status detailing whether the loan is current, has been paid, is late, or has been charged off (default). Previously, we had encoded these categories into numerical values. The dictionary of encoding is referenced below, and we can see our data contains loans that fall into all of these categories."
   ]
  },
  {
   "cell_type": "code",
   "execution_count": 29,
   "metadata": {},
   "outputs": [
    {
     "name": "stdout",
     "output_type": "stream",
     "text": [
      "{0, 1, 2, 3, 4, 5}\n",
      "1    134839\n",
      "2      5929\n",
      "5      1042\n",
      "3       689\n",
      "4       364\n",
      "0       156\n",
      "Name: loan_status, dtype: int64\n"
     ]
    }
   ],
   "source": [
    "status_dict = {0: \"Charged Off\", 1: \"Current\", 2: \"Fully Paid\", 3: \"In Grace Period\", 4: \"Late (16-30 days)\",\n",
    "               5: \"Late (31-120 days)\"}\n",
    "\n",
    "print(set(data[\"loan_status\"]))\n",
    "print(data[\"loan_status\"].value_counts())"
   ]
  },
  {
   "cell_type": "markdown",
   "metadata": {},
   "source": [
    "We can make a barplot of counts for all the loan status outcomes. It appears we have loans falling into each of these categories. Now, we will dive deeper to understand what attributes of a loan contribute to this outcome."
   ]
  },
  {
   "cell_type": "code",
   "execution_count": 34,
   "metadata": {},
   "outputs": [
    {
     "data": {
      "text/plain": [
       "(0, 148322.90000000002)"
      ]
     },
     "execution_count": 34,
     "metadata": {},
     "output_type": "execute_result"
    },
    {
     "data": {
      "image/png": "[encoded data removed]",
      "text/plain": [
       "<Figure size 1008x432 with 1 Axes>"
      ]
     },
     "metadata": {
      "needs_background": "light"
     },
     "output_type": "display_data"
    }
   ],
   "source": [
    "plt.figure(figsize=(14, 6))\n",
    "\n",
    "g = sns.countplot(x=\"loan_status\", data=data)\n",
    "g.set_xticklabels(status_dict.values(), rotation=45)\n",
    "g.set_xlabel(\"Loan Status Categories\", fontsize=13)\n",
    "g.set_ylabel(\"Count\", fontsize=13)\n",
    "g.set_title(\"Loan Status Types Distribution\", fontsize=15)\n",
    "\n",
    "proportions = []\n",
    "for status in g.patches:\n",
    "    height = status.get_height()\n",
    "    proportions.append(height)\n",
    "    g.text(status.get_x()+status.get_width()/2.,\n",
    "            height + 3,\n",
    "            \"{:1.2f}%\".format(height/len(data)*100),\n",
    "            ha=\"center\", fontsize=12) \n",
    "\n",
    "g.set_ylim(0, max(proportions)*1.1)"
   ]
  },
  {
   "cell_type": "markdown",
   "metadata": {},
   "source": [
    "### Loan Amount"
   ]
  },
  {
   "cell_type": "code",
   "execution_count": 6,
   "metadata": {},
   "outputs": [
    {
     "data": {
      "text/plain": [
       "<matplotlib.axes._subplots.AxesSubplot at 0x1186bcda0>"
      ]
     },
     "execution_count": 6,
     "metadata": {},
     "output_type": "execute_result"
    },
    {
     "data": {
      "image/png": "[encoded data removed]",
      "text/plain": [
       "<Figure size 432x288 with 1 Axes>"
      ]
     },
     "metadata": {
      "needs_background": "light"
     },
     "output_type": "display_data"
    }
   ],
   "source": [
    "plots.histogram(\"loan_amnt\", data)"
   ]
  },
  {
   "cell_type": "code",
   "execution_count": null,
   "metadata": {},
   "outputs": [],
   "source": [
    "plots.barplot(data, \"grade\", \"loan_amnt\")"
   ]
  },
  {
   "cell_type": "code",
   "execution_count": null,
   "metadata": {},
   "outputs": [],
   "source": [
    "plots.barplot(data, \"grade\", \"loan_amnt\", hue=\"sub_grade\")"
   ]
  },
  {
   "cell_type": "code",
   "execution_count": null,
   "metadata": {},
   "outputs": [],
   "source": []
  },
  {
   "cell_type": "code",
   "execution_count": null,
   "metadata": {},
   "outputs": [],
   "source": []
  },
  {
   "cell_type": "code",
   "execution_count": null,
   "metadata": {},
   "outputs": [],
   "source": []
  },
  {
   "cell_type": "markdown",
   "metadata": {},
   "source": [
    "### Loan Purpose\n",
    "It may be beneficial to understand the purposes for the loans in the data, since the use of the borrowed money may contribute to whether it is paid back or not. Some may borrow money for a new car, to pay off their house, or for other casual purposes. Others may need financing for debt consolidation, which is to pay off all their other current liabilities, or to finance a business. These activities seem to carry more risk and may have an impact on default."
   ]
  },
  {
   "cell_type": "code",
   "execution_count": 38,
   "metadata": {},
   "outputs": [
    {
     "data": {
      "text/plain": [
       "(0, 85105.90000000001)"
      ]
     },
     "execution_count": 38,
     "metadata": {},
     "output_type": "execute_result"
    },
    {
     "data": {
      "image/png": "[encoded data removed]",
      "text/plain": [
       "<Figure size 1008x432 with 1 Axes>"
      ]
     },
     "metadata": {
      "needs_background": "light"
     },
     "output_type": "display_data"
    }
   ],
   "source": [
    "plt.figure(figsize=(14, 6))\n",
    "\n",
    "g = sns.countplot(x='purpose', data=data)\n",
    "g.set_xticklabels(g.get_xticklabels(), rotation=45)\n",
    "g.set_xlabel(\"Purpose Titles\", fontsize=13)\n",
    "g.set_ylabel('Count', fontsize=13)\n",
    "g.set_title(\"Client Purposes for Loan Credit\", fontsize=15)\n",
    "\n",
    "sizes=[]\n",
    "\n",
    "for p in g.patches:\n",
    "    height = p.get_height()\n",
    "    sizes.append(height)\n",
    "    g.text(p.get_x()+p.get_width()/2.,\n",
    "            height + 3,\n",
    "            '{:1.2f}%'.format(height/len(data)*100),\n",
    "            ha=\"center\", fontsize=12) \n",
    "    \n",
    "g.set_ylim(0, max(sizes) * 1.1)"
   ]
  },
  {
   "cell_type": "code",
   "execution_count": null,
   "metadata": {},
   "outputs": [],
   "source": []
  },
  {
   "cell_type": "code",
   "execution_count": null,
   "metadata": {},
   "outputs": [],
   "source": []
  },
  {
   "cell_type": "code",
   "execution_count": null,
   "metadata": {},
   "outputs": [],
   "source": [
    "plt.figure()\n",
    "fig = plt.gcf() #creates the plot figure object\n",
    "fig.set_size_inches(10, 10) #sets the plot size\n",
    "plt.subplot(2, 2, 1) #first subplot, 2 rows and 2 columns\n",
    "sns.distplot(df[\"Age\"], bins=[15, 20, 25, 30, 35, 40, 45], kde=False, norm_hist=False) #make plot\n",
    "plt.subplot(2, 2, 2) #second subplot, 2 rows and 2 columns\n",
    "sns.distplot(df[\"Potential\"], kde=False, norm_hist=False) #make plot\n",
    "plt.subplots_adjust(left=0) #shift to make plots legible"
   ]
  },
  {
   "cell_type": "code",
   "execution_count": null,
   "metadata": {},
   "outputs": [],
   "source": []
  },
  {
   "cell_type": "code",
   "execution_count": null,
   "metadata": {},
   "outputs": [],
   "source": []
  },
  {
   "cell_type": "code",
   "execution_count": null,
   "metadata": {},
   "outputs": [],
   "source": []
  },
  {
   "cell_type": "code",
   "execution_count": null,
   "metadata": {},
   "outputs": [],
   "source": []
  },
  {
   "cell_type": "code",
   "execution_count": null,
   "metadata": {},
   "outputs": [],
   "source": []
  },
  {
   "cell_type": "code",
   "execution_count": null,
   "metadata": {},
   "outputs": [],
   "source": []
  }
 ],
 "metadata": {
  "kernelspec": {
   "display_name": "Python 3",
   "language": "python",
   "name": "python3"
  },
  "language_info": {
   "codemirror_mode": {
    "name": "ipython",
    "version": 3
   },
   "file_extension": ".py",
   "mimetype": "text/x-python",
   "name": "python",
   "nbconvert_exporter": "python",
   "pygments_lexer": "ipython3",
   "version": "3.6.8"
  }
 },
 "nbformat": 4,
 "nbformat_minor": 2
}
